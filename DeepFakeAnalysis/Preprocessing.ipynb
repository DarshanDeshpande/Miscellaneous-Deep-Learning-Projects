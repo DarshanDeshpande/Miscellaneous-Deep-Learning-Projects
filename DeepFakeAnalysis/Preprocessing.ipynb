{
  "nbformat": 4,
  "nbformat_minor": 0,
  "metadata": {
    "colab": {
      "name": "Untitled3.ipynb",
      "provenance": []
    },
    "kernelspec": {
      "name": "python3",
      "display_name": "Python 3"
    }
  },
  "cells": [
    {
      "cell_type": "code",
      "metadata": {
        "id": "Yz5tZVAen8_5",
        "colab_type": "code",
        "outputId": "8ebc8260-f158-47a7-c8f9-feaec59895c9",
        "colab": {
          "base_uri": "https://localhost:8080/",
          "height": 50
        }
      },
      "source": [
        " %tensorflow_version 2.x\n",
        "import tensorflow as tf\n",
        "import numpy as np\n",
        "import cv2,os,io\n",
        "print(tf.__version__)"
      ],
      "execution_count": 2,
      "outputs": [
        {
          "output_type": "stream",
          "text": [
            "TensorFlow 2.x selected.\n",
            "2.1.0-rc1\n"
          ],
          "name": "stdout"
        }
      ]
    },
    {
      "cell_type": "code",
      "metadata": {
        "id": "71YXj8sJuHuh",
        "colab_type": "code",
        "colab": {}
      },
      "source": [
        "import json\n",
        "\n",
        "classes = ['REAL','FAKE']\n",
        "class_list,name_of_files = [], []\n",
        "\n",
        "with open(\"/content/drive/My Drive/DeepFakeFiles/train_data/metadata.json\") as f:\n",
        "    data = json.load(f)\n",
        "    for video_id,info in data.items():\n",
        "        if info['label'] == 'FAKE':\n",
        "            class_list.append(1)\n",
        "        else:\n",
        "            class_list.append(0)\n",
        "        name_of_files.append(video_id)"
      ],
      "execution_count": 0,
      "outputs": []
    },
    {
      "cell_type": "code",
      "metadata": {
        "id": "voywE4nbuwsD",
        "colab_type": "code",
        "colab": {}
      },
      "source": [
        "import glob\n",
        "paths = glob.glob(\"/content/drive/My Drive/DeepFakeFiles/train_data/*.mp4\")\n",
        "print(len(paths))\n",
        "labels = []\n",
        "i=0\n",
        "for f in paths:\n",
        "  if os.path.basename(f) in name_of_files:\n",
        "    labels.append(class_list[name_of_files.index(os.path.basename(f))])\n",
        "print(labels,len(labels),\"\\n\",name_of_files)  "
      ],
      "execution_count": 0,
      "outputs": []
    },
    {
      "cell_type": "code",
      "metadata": {
        "id": "ELvCqLaSMQNS",
        "colab_type": "code",
        "outputId": "777cc9a1-7996-4a50-dc7c-775270f2cff4",
        "colab": {
          "base_uri": "https://localhost:8080/",
          "height": 70
        }
      },
      "source": [
        "from random import shuffle\n",
        "c = list(zip(paths,labels))\n",
        "shuffle(c)\n",
        "paths,labels = zip(*c)\n",
        "print(paths)\n",
        "print(labels)"
      ],
      "execution_count": 0,
      "outputs": [
        {
          "output_type": "stream",
          "text": [
            "('/content/drive/My Drive/DeepFakeFiles/train_data/bzythlfnhq.mp4', '/content/drive/My Drive/DeepFakeFiles/train_data/benmsfzfaz.mp4', '/content/drive/My Drive/DeepFakeFiles/train_data/axwgcsyphv.mp4', '/content/drive/My Drive/DeepFakeFiles/train_data/dzwkmcwkwl.mp4', '/content/drive/My Drive/DeepFakeFiles/train_data/dboxtiehng.mp4', '/content/drive/My Drive/DeepFakeFiles/train_data/cbltdtxglo.mp4', '/content/drive/My Drive/DeepFakeFiles/train_data/awhmfnnjih.mp4', '/content/drive/My Drive/DeepFakeFiles/train_data/bwipwzzxxu.mp4', '/content/drive/My Drive/DeepFakeFiles/train_data/cwwandrkus.mp4', '/content/drive/My Drive/DeepFakeFiles/train_data/aevrfsexku.mp4', '/content/drive/My Drive/DeepFakeFiles/train_data/czfunozvwp.mp4', '/content/drive/My Drive/DeepFakeFiles/train_data/cdyakrxkia.mp4', '/content/drive/My Drive/DeepFakeFiles/train_data/ccmonzqfrz.mp4', '/content/drive/My Drive/DeepFakeFiles/train_data/eczrseixwq.mp4', '/content/drive/My Drive/DeepFakeFiles/train_data/bydaidkpdp.mp4', '/content/drive/My Drive/DeepFakeFiles/train_data/coadfnerlk.mp4', '/content/drive/My Drive/DeepFakeFiles/train_data/adhsbajydo.mp4', '/content/drive/My Drive/DeepFakeFiles/train_data/cuzrgrbvil.mp4', '/content/drive/My Drive/DeepFakeFiles/train_data/brwrlczjvi.mp4', '/content/drive/My Drive/DeepFakeFiles/train_data/dcamvmuors.mp4', '/content/drive/My Drive/DeepFakeFiles/train_data/bpxckdzddv.mp4', '/content/drive/My Drive/DeepFakeFiles/train_data/bbvgxeczei.mp4', '/content/drive/My Drive/DeepFakeFiles/train_data/agqphdxmwt.mp4', '/content/drive/My Drive/DeepFakeFiles/train_data/dqswpjoepo.mp4', '/content/drive/My Drive/DeepFakeFiles/train_data/cyboodqqyr.mp4', '/content/drive/My Drive/DeepFakeFiles/train_data/drgjzlxzxj.mp4', '/content/drive/My Drive/DeepFakeFiles/train_data/agrmhtjdlk.mp4', '/content/drive/My Drive/DeepFakeFiles/train_data/bqtuuwzdtr.mp4', '/content/drive/My Drive/DeepFakeFiles/train_data/bddjdhzfze.mp4', '/content/drive/My Drive/DeepFakeFiles/train_data/ctzmavwror.mp4', '/content/drive/My Drive/DeepFakeFiles/train_data/abarnvbtwb.mp4', '/content/drive/My Drive/DeepFakeFiles/train_data/ajqslcypsw.mp4', '/content/drive/My Drive/DeepFakeFiles/train_data/chzieimrwu.mp4', '/content/drive/My Drive/DeepFakeFiles/train_data/ddpvuimigj.mp4', '/content/drive/My Drive/DeepFakeFiles/train_data/cmxcfkrjiv.mp4', '/content/drive/My Drive/DeepFakeFiles/train_data/byyqectxqa.mp4', '/content/drive/My Drive/DeepFakeFiles/train_data/czmqpxrqoh.mp4', '/content/drive/My Drive/DeepFakeFiles/train_data/acxwigylke.mp4', '/content/drive/My Drive/DeepFakeFiles/train_data/cqrskwiqng.mp4', '/content/drive/My Drive/DeepFakeFiles/train_data/adylbeequz.mp4', '/content/drive/My Drive/DeepFakeFiles/train_data/cqhngvpgyi.mp4', '/content/drive/My Drive/DeepFakeFiles/train_data/efdyrflcpg.mp4', '/content/drive/My Drive/DeepFakeFiles/train_data/dqzreruvje.mp4', '/content/drive/My Drive/DeepFakeFiles/train_data/avfitoutyn.mp4', '/content/drive/My Drive/DeepFakeFiles/train_data/aklqzsddfl.mp4', '/content/drive/My Drive/DeepFakeFiles/train_data/cferslmfwh.mp4', '/content/drive/My Drive/DeepFakeFiles/train_data/bqnymlsayl.mp4', '/content/drive/My Drive/DeepFakeFiles/train_data/dbtbbhakdv.mp4', '/content/drive/My Drive/DeepFakeFiles/train_data/deyyistcrd.mp4', '/content/drive/My Drive/DeepFakeFiles/train_data/aneclqfpbt.mp4', '/content/drive/My Drive/DeepFakeFiles/train_data/asmpfjfzif.mp4', '/content/drive/My Drive/DeepFakeFiles/train_data/ekhacizpah.mp4', '/content/drive/My Drive/DeepFakeFiles/train_data/dxuplhwvig.mp4', '/content/drive/My Drive/DeepFakeFiles/train_data/bgvhtpzknn.mp4', '/content/drive/My Drive/DeepFakeFiles/train_data/dgxrqjdomn.mp4', '/content/drive/My Drive/DeepFakeFiles/train_data/avtycwsgyb.mp4', '/content/drive/My Drive/DeepFakeFiles/train_data/dhjmzhrcav.mp4', '/content/drive/My Drive/DeepFakeFiles/train_data/ensyyivobf.mp4', '/content/drive/My Drive/DeepFakeFiles/train_data/egbbcxcuqy.mp4', '/content/drive/My Drive/DeepFakeFiles/train_data/cycacemkmt.mp4', '/content/drive/My Drive/DeepFakeFiles/train_data/btiysiskpf.mp4', '/content/drive/My Drive/DeepFakeFiles/train_data/bqhtpqmmqp.mp4', '/content/drive/My Drive/DeepFakeFiles/train_data/eggbjzxnmg.mp4', '/content/drive/My Drive/DeepFakeFiles/train_data/bmjmjmbglm.mp4', '/content/drive/My Drive/DeepFakeFiles/train_data/avssvvsdhz.mp4', '/content/drive/My Drive/DeepFakeFiles/train_data/ddepeddixj.mp4', '/content/drive/My Drive/DeepFakeFiles/train_data/ehfiekigla.mp4', '/content/drive/My Drive/DeepFakeFiles/train_data/covdcysmbi.mp4', '/content/drive/My Drive/DeepFakeFiles/train_data/ajwpjhrbcv.mp4', '/content/drive/My Drive/DeepFakeFiles/train_data/bdnaqemxmr.mp4', '/content/drive/My Drive/DeepFakeFiles/train_data/esnntzzajv.mp4', '/content/drive/My Drive/DeepFakeFiles/train_data/cfyduhpbps.mp4', '/content/drive/My Drive/DeepFakeFiles/train_data/alvgwypubw.mp4', '/content/drive/My Drive/DeepFakeFiles/train_data/bvzjkezkms.mp4', '/content/drive/My Drive/DeepFakeFiles/train_data/dxuliowugt.mp4', '/content/drive/My Drive/DeepFakeFiles/train_data/boovltmuwi.mp4', '/content/drive/My Drive/DeepFakeFiles/train_data/bsqgziaylx.mp4', '/content/drive/My Drive/DeepFakeFiles/train_data/byqzyxifza.mp4', '/content/drive/My Drive/DeepFakeFiles/train_data/bmbbkwmxqj.mp4', '/content/drive/My Drive/DeepFakeFiles/train_data/byijojkdba.mp4', '/content/drive/My Drive/DeepFakeFiles/train_data/dkhlttuvmx.mp4', '/content/drive/My Drive/DeepFakeFiles/train_data/bwuwstvsbw.mp4', '/content/drive/My Drive/DeepFakeFiles/train_data/asaxgevnnp.mp4', '/content/drive/My Drive/DeepFakeFiles/train_data/bejhvclboh.mp4', '/content/drive/My Drive/DeepFakeFiles/train_data/aqpnvjhuzw.mp4', '/content/drive/My Drive/DeepFakeFiles/train_data/axwovszumc.mp4', '/content/drive/My Drive/DeepFakeFiles/train_data/dsjbknkujw.mp4', '/content/drive/My Drive/DeepFakeFiles/train_data/aknmpoonls.mp4', '/content/drive/My Drive/DeepFakeFiles/train_data/ebebgmtlcu.mp4', '/content/drive/My Drive/DeepFakeFiles/train_data/aladcziidp.mp4', '/content/drive/My Drive/DeepFakeFiles/train_data/eekozbeafq.mp4', '/content/drive/My Drive/DeepFakeFiles/train_data/dkuayagnmc.mp4', '/content/drive/My Drive/DeepFakeFiles/train_data/ebywfrmhtd.mp4', '/content/drive/My Drive/DeepFakeFiles/train_data/dzqwgqewhu.mp4', '/content/drive/My Drive/DeepFakeFiles/train_data/diqraixiov.mp4', '/content/drive/My Drive/DeepFakeFiles/train_data/bjjbwsqjir.mp4', '/content/drive/My Drive/DeepFakeFiles/train_data/ekcrtigpab.mp4', '/content/drive/My Drive/DeepFakeFiles/train_data/cffffbcywc.mp4', '/content/drive/My Drive/DeepFakeFiles/train_data/crktehraph.mp4', '/content/drive/My Drive/DeepFakeFiles/train_data/ekkdjkirzq.mp4', '/content/drive/My Drive/DeepFakeFiles/train_data/egghxjjmfg.mp4', '/content/drive/My Drive/DeepFakeFiles/train_data/etohcvnzbj.mp4', '/content/drive/My Drive/DeepFakeFiles/train_data/dofusvhnib.mp4', '/content/drive/My Drive/DeepFakeFiles/train_data/bgwmmujlmc.mp4', '/content/drive/My Drive/DeepFakeFiles/train_data/diopzaywor.mp4', '/content/drive/My Drive/DeepFakeFiles/train_data/ebeknhudxq.mp4', '/content/drive/My Drive/DeepFakeFiles/train_data/altziddtxi.mp4', '/content/drive/My Drive/DeepFakeFiles/train_data/ayqvfdhslr.mp4', '/content/drive/My Drive/DeepFakeFiles/train_data/aknbdpmgua.mp4', '/content/drive/My Drive/DeepFakeFiles/train_data/chviwxsfhg.mp4', '/content/drive/My Drive/DeepFakeFiles/train_data/beboztfcme.mp4', '/content/drive/My Drive/DeepFakeFiles/train_data/asvcrfdpnq.mp4', '/content/drive/My Drive/DeepFakeFiles/train_data/dqppxmoqdl.mp4', '/content/drive/My Drive/DeepFakeFiles/train_data/cvaksbpssm.mp4', '/content/drive/My Drive/DeepFakeFiles/train_data/bmjzrlszhi.mp4', '/content/drive/My Drive/DeepFakeFiles/train_data/czkdanyadc.mp4', '/content/drive/My Drive/DeepFakeFiles/train_data/bahdpoesir.mp4', '/content/drive/My Drive/DeepFakeFiles/train_data/dhkwmjxwrn.mp4', '/content/drive/My Drive/DeepFakeFiles/train_data/dakqwktlbi.mp4', '/content/drive/My Drive/DeepFakeFiles/train_data/amaivqofda.mp4', '/content/drive/My Drive/DeepFakeFiles/train_data/bdgipnyobr.mp4', '/content/drive/My Drive/DeepFakeFiles/train_data/dbnygxtwek.mp4', '/content/drive/My Drive/DeepFakeFiles/train_data/ebkzwjgjhq.mp4', '/content/drive/My Drive/DeepFakeFiles/train_data/byofowlkki.mp4', '/content/drive/My Drive/DeepFakeFiles/train_data/bdxuhamuqx.mp4', '/content/drive/My Drive/DeepFakeFiles/train_data/dptrzdvwpg.mp4', '/content/drive/My Drive/DeepFakeFiles/train_data/cepxysienc.mp4', '/content/drive/My Drive/DeepFakeFiles/train_data/atvmxvwyns.mp4', '/content/drive/My Drive/DeepFakeFiles/train_data/acifjvzvpm.mp4', '/content/drive/My Drive/DeepFakeFiles/train_data/deywhkarol.mp4', '/content/drive/My Drive/DeepFakeFiles/train_data/aslsvlvpth.mp4', '/content/drive/My Drive/DeepFakeFiles/train_data/eudeqjhdfd.mp4', '/content/drive/My Drive/DeepFakeFiles/train_data/esyrimvzsa.mp4', '/content/drive/My Drive/DeepFakeFiles/train_data/eebrkicpry.mp4', '/content/drive/My Drive/DeepFakeFiles/train_data/cprhtltsjp.mp4', '/content/drive/My Drive/DeepFakeFiles/train_data/bwhlgysghg.mp4', '/content/drive/My Drive/DeepFakeFiles/train_data/dbzcqmxzaj.mp4', '/content/drive/My Drive/DeepFakeFiles/train_data/cttqtsjvgn.mp4', '/content/drive/My Drive/DeepFakeFiles/train_data/ckbdwedgmc.mp4', '/content/drive/My Drive/DeepFakeFiles/train_data/bgmlwsoamc.mp4', '/content/drive/My Drive/DeepFakeFiles/train_data/ecnihjlfyt.mp4', '/content/drive/My Drive/DeepFakeFiles/train_data/axczxisdtb.mp4', '/content/drive/My Drive/DeepFakeFiles/train_data/crzfebnfgb.mp4', '/content/drive/My Drive/DeepFakeFiles/train_data/dnexlwbcxq.mp4', '/content/drive/My Drive/DeepFakeFiles/train_data/agdkmztvby.mp4', '/content/drive/My Drive/DeepFakeFiles/train_data/dafhtipaml.mp4', '/content/drive/My Drive/DeepFakeFiles/train_data/byunigvnay.mp4', '/content/drive/My Drive/DeepFakeFiles/train_data/dkwjwbwgey.mp4', '/content/drive/My Drive/DeepFakeFiles/train_data/dkrvorliqc.mp4', '/content/drive/My Drive/DeepFakeFiles/train_data/eukvucdetx.mp4', '/content/drive/My Drive/DeepFakeFiles/train_data/alaijyygdv.mp4', '/content/drive/My Drive/DeepFakeFiles/train_data/cdphtzqrvp.mp4', '/content/drive/My Drive/DeepFakeFiles/train_data/eepezmygaq.mp4', '/content/drive/My Drive/DeepFakeFiles/train_data/awnwkrqibf.mp4', '/content/drive/My Drive/DeepFakeFiles/train_data/bjsmaqefoi.mp4', '/content/drive/My Drive/DeepFakeFiles/train_data/bggsurpgpr.mp4', '/content/drive/My Drive/DeepFakeFiles/train_data/akvmwkdyuv.mp4', '/content/drive/My Drive/DeepFakeFiles/train_data/aytzyidmgs.mp4', '/content/drive/My Drive/DeepFakeFiles/train_data/bvgwelbeof.mp4', '/content/drive/My Drive/DeepFakeFiles/train_data/crezycjqyk.mp4', '/content/drive/My Drive/DeepFakeFiles/train_data/apatcsqejh.mp4', '/content/drive/My Drive/DeepFakeFiles/train_data/bmhvktyiwp.mp4', '/content/drive/My Drive/DeepFakeFiles/train_data/etmcruaihe.mp4', '/content/drive/My Drive/DeepFakeFiles/train_data/atkdltyyen.mp4', '/content/drive/My Drive/DeepFakeFiles/train_data/bffwsjxghk.mp4', '/content/drive/My Drive/DeepFakeFiles/train_data/dubiroskqn.mp4', '/content/drive/My Drive/DeepFakeFiles/train_data/cnilkgvfei.mp4', '/content/drive/My Drive/DeepFakeFiles/train_data/curpwogllm.mp4', '/content/drive/My Drive/DeepFakeFiles/train_data/cdbsbdymzd.mp4', '/content/drive/My Drive/DeepFakeFiles/train_data/errocgcham.mp4', '/content/drive/My Drive/DeepFakeFiles/train_data/aipfdnwpoo.mp4', '/content/drive/My Drive/DeepFakeFiles/train_data/bhaaboftbc.mp4', '/content/drive/My Drive/DeepFakeFiles/train_data/aettqgevhz.mp4', '/content/drive/My Drive/DeepFakeFiles/train_data/cwqlvzefpg.mp4', '/content/drive/My Drive/DeepFakeFiles/train_data/cqfugiqupm.mp4', '/content/drive/My Drive/DeepFakeFiles/train_data/esxrvsgpvb.mp4', '/content/drive/My Drive/DeepFakeFiles/train_data/dxbqjxrhin.mp4', '/content/drive/My Drive/DeepFakeFiles/train_data/ckjaibzfxa.mp4', '/content/drive/My Drive/DeepFakeFiles/train_data/bhsluedavd.mp4', '/content/drive/My Drive/DeepFakeFiles/train_data/bctvsmddgq.mp4', '/content/drive/My Drive/DeepFakeFiles/train_data/ehtdtkmmli.mp4', '/content/drive/My Drive/DeepFakeFiles/train_data/bguwlyazau.mp4', '/content/drive/My Drive/DeepFakeFiles/train_data/bweezhfpzp.mp4', '/content/drive/My Drive/DeepFakeFiles/train_data/eixwxvxbbn.mp4', '/content/drive/My Drive/DeepFakeFiles/train_data/dozyddhild.mp4', '/content/drive/My Drive/DeepFakeFiles/train_data/esgftaficx.mp4', '/content/drive/My Drive/DeepFakeFiles/train_data/cyxlcuyznd.mp4', '/content/drive/My Drive/DeepFakeFiles/train_data/dvakowbgbt.mp4', '/content/drive/My Drive/DeepFakeFiles/train_data/amowujxmzc.mp4', '/content/drive/My Drive/DeepFakeFiles/train_data/bpwzipqtxf.mp4', '/content/drive/My Drive/DeepFakeFiles/train_data/btxlttbpkj.mp4', '/content/drive/My Drive/DeepFakeFiles/train_data/bkwxhglwct.mp4', '/content/drive/My Drive/DeepFakeFiles/train_data/caqbrkogkb.mp4', '/content/drive/My Drive/DeepFakeFiles/train_data/clihsshdkq.mp4', '/content/drive/My Drive/DeepFakeFiles/train_data/atyntldecu.mp4', '/content/drive/My Drive/DeepFakeFiles/train_data/aybgughjxh.mp4', '/content/drive/My Drive/DeepFakeFiles/train_data/apogckdfrz.mp4', '/content/drive/My Drive/DeepFakeFiles/train_data/cmbzllswnl.mp4', '/content/drive/My Drive/DeepFakeFiles/train_data/bzmdrafeex.mp4', '/content/drive/My Drive/DeepFakeFiles/train_data/ddhfabwpuz.mp4', '/content/drive/My Drive/DeepFakeFiles/train_data/dkzvdrzcnr.mp4', '/content/drive/My Drive/DeepFakeFiles/train_data/btohlidmru.mp4', '/content/drive/My Drive/DeepFakeFiles/train_data/ecwaxgutkc.mp4', '/content/drive/My Drive/DeepFakeFiles/train_data/aagfhgtpmv.mp4', '/content/drive/My Drive/DeepFakeFiles/train_data/drcyabprvt.mp4', '/content/drive/My Drive/DeepFakeFiles/train_data/btugrnoton.mp4', '/content/drive/My Drive/DeepFakeFiles/train_data/dqqtjcryjv.mp4', '/content/drive/My Drive/DeepFakeFiles/train_data/arkroixhey.mp4', '/content/drive/My Drive/DeepFakeFiles/train_data/ejkqesyvam.mp4', '/content/drive/My Drive/DeepFakeFiles/train_data/blpchvmhxx.mp4', '/content/drive/My Drive/DeepFakeFiles/train_data/dkdwxmtpuo.mp4', '/content/drive/My Drive/DeepFakeFiles/train_data/aelfnikyqj.mp4', '/content/drive/My Drive/DeepFakeFiles/train_data/dbzpcjntve.mp4', '/content/drive/My Drive/DeepFakeFiles/train_data/awukslzjra.mp4', '/content/drive/My Drive/DeepFakeFiles/train_data/dvumqqhoac.mp4', '/content/drive/My Drive/DeepFakeFiles/train_data/cyclgfjdrv.mp4', '/content/drive/My Drive/DeepFakeFiles/train_data/eiriyukqqy.mp4', '/content/drive/My Drive/DeepFakeFiles/train_data/ehdkmxgtxh.mp4', '/content/drive/My Drive/DeepFakeFiles/train_data/azsmewqghg.mp4', '/content/drive/My Drive/DeepFakeFiles/train_data/axntxmycwd.mp4', '/content/drive/My Drive/DeepFakeFiles/train_data/andaxzscny.mp4', '/content/drive/My Drive/DeepFakeFiles/train_data/cettndmvzl.mp4', '/content/drive/My Drive/DeepFakeFiles/train_data/btjwbtsgln.mp4', '/content/drive/My Drive/DeepFakeFiles/train_data/aelzhcnwgf.mp4', '/content/drive/My Drive/DeepFakeFiles/train_data/duzuusuajr.mp4', '/content/drive/My Drive/DeepFakeFiles/train_data/alninxcyhg.mp4', '/content/drive/My Drive/DeepFakeFiles/train_data/dlpoieqvfb.mp4', '/content/drive/My Drive/DeepFakeFiles/train_data/ahdbuwqxit.mp4', '/content/drive/My Drive/DeepFakeFiles/train_data/eebserckhh.mp4', '/content/drive/My Drive/DeepFakeFiles/train_data/bulkxhhknf.mp4', '/content/drive/My Drive/DeepFakeFiles/train_data/bsfmwclnqy.mp4', '/content/drive/My Drive/DeepFakeFiles/train_data/efwfxwwlbw.mp4', '/content/drive/My Drive/DeepFakeFiles/train_data/bndybcqhfr.mp4', '/content/drive/My Drive/DeepFakeFiles/train_data/atzdznmder.mp4', '/content/drive/My Drive/DeepFakeFiles/train_data/duvyaxbzvp.mp4', '/content/drive/My Drive/DeepFakeFiles/train_data/ddjggcasdw.mp4', '/content/drive/My Drive/DeepFakeFiles/train_data/clrycekyst.mp4', '/content/drive/My Drive/DeepFakeFiles/train_data/eqvuznuwsa.mp4', '/content/drive/My Drive/DeepFakeFiles/train_data/bxzakyopjf.mp4', '/content/drive/My Drive/DeepFakeFiles/train_data/dhxctgyoqj.mp4', '/content/drive/My Drive/DeepFakeFiles/train_data/avgiuextiz.mp4', '/content/drive/My Drive/DeepFakeFiles/train_data/asdpeebotb.mp4', '/content/drive/My Drive/DeepFakeFiles/train_data/dbhoxkblzx.mp4', '/content/drive/My Drive/DeepFakeFiles/train_data/duycddgtrl.mp4', '/content/drive/My Drive/DeepFakeFiles/train_data/btunxncpjh.mp4', '/content/drive/My Drive/DeepFakeFiles/train_data/cxrfacemmq.mp4', '/content/drive/My Drive/DeepFakeFiles/train_data/eivxffliio.mp4', '/content/drive/My Drive/DeepFakeFiles/train_data/ahfazfbntc.mp4', '/content/drive/My Drive/DeepFakeFiles/train_data/eajlrktemq.mp4', '/content/drive/My Drive/DeepFakeFiles/train_data/brvqtabyxj.mp4', '/content/drive/My Drive/DeepFakeFiles/train_data/diuzrpqjli.mp4', '/content/drive/My Drive/DeepFakeFiles/train_data/cwrtyzndpx.mp4', '/content/drive/My Drive/DeepFakeFiles/train_data/dakiztgtnw.mp4', '/content/drive/My Drive/DeepFakeFiles/train_data/aapnvogymq.mp4', '/content/drive/My Drive/DeepFakeFiles/train_data/ctpqeykqdp.mp4', '/content/drive/My Drive/DeepFakeFiles/train_data/djvtbgwdcc.mp4', '/content/drive/My Drive/DeepFakeFiles/train_data/akzbnazxtz.mp4', '/content/drive/My Drive/DeepFakeFiles/train_data/elginszwtk.mp4', '/content/drive/My Drive/DeepFakeFiles/train_data/eqnoqyfquo.mp4', '/content/drive/My Drive/DeepFakeFiles/train_data/bchnbulevv.mp4', '/content/drive/My Drive/DeepFakeFiles/train_data/ebchwmwayp.mp4', '/content/drive/My Drive/DeepFakeFiles/train_data/eckvhdusax.mp4', '/content/drive/My Drive/DeepFakeFiles/train_data/ehbnclaukr.mp4', '/content/drive/My Drive/DeepFakeFiles/train_data/bdbhekrrwo.mp4', '/content/drive/My Drive/DeepFakeFiles/train_data/axoygtekut.mp4', '/content/drive/My Drive/DeepFakeFiles/train_data/cgvrgibpfo.mp4', '/content/drive/My Drive/DeepFakeFiles/train_data/drtbksnpol.mp4', '/content/drive/My Drive/DeepFakeFiles/train_data/bourlmzsio.mp4', '/content/drive/My Drive/DeepFakeFiles/train_data/degpbqvcay.mp4', '/content/drive/My Drive/DeepFakeFiles/train_data/cwbacdwrzo.mp4', '/content/drive/My Drive/DeepFakeFiles/train_data/eqjscdagiv.mp4', '/content/drive/My Drive/DeepFakeFiles/train_data/eeyhxisdfh.mp4', '/content/drive/My Drive/DeepFakeFiles/train_data/dsndhujjjb.mp4', '/content/drive/My Drive/DeepFakeFiles/train_data/bkvetcojbt.mp4', '/content/drive/My Drive/DeepFakeFiles/train_data/cdaxixbosp.mp4', '/content/drive/My Drive/DeepFakeFiles/train_data/dzyuwjkjui.mp4', '/content/drive/My Drive/DeepFakeFiles/train_data/bnjcdrfuov.mp4', '/content/drive/My Drive/DeepFakeFiles/train_data/erqgqacbqe.mp4', '/content/drive/My Drive/DeepFakeFiles/train_data/byfenovjnf.mp4', '/content/drive/My Drive/DeepFakeFiles/train_data/dtbpmdqvao.mp4', '/content/drive/My Drive/DeepFakeFiles/train_data/apgjqzkoma.mp4', '/content/drive/My Drive/DeepFakeFiles/train_data/dnhvalzvrt.mp4', '/content/drive/My Drive/DeepFakeFiles/train_data/akxoopqjqz.mp4', '/content/drive/My Drive/DeepFakeFiles/train_data/bqeiblbxtl.mp4', '/content/drive/My Drive/DeepFakeFiles/train_data/beyebyhrph.mp4', '/content/drive/My Drive/DeepFakeFiles/train_data/blzydqdfem.mp4', '/content/drive/My Drive/DeepFakeFiles/train_data/ckkuyewywx.mp4', '/content/drive/My Drive/DeepFakeFiles/train_data/etejaapnxh.mp4', '/content/drive/My Drive/DeepFakeFiles/train_data/bmehkyanbj.mp4', '/content/drive/My Drive/DeepFakeFiles/train_data/bbhtdfuqxq.mp4', '/content/drive/My Drive/DeepFakeFiles/train_data/dzvyfiarrq.mp4', '/content/drive/My Drive/DeepFakeFiles/train_data/dhcndnuwta.mp4', '/content/drive/My Drive/DeepFakeFiles/train_data/bilnggbxgu.mp4', '/content/drive/My Drive/DeepFakeFiles/train_data/cglxirfaey.mp4', '/content/drive/My Drive/DeepFakeFiles/train_data/cpjxareypw.mp4', '/content/drive/My Drive/DeepFakeFiles/train_data/dwediigjit.mp4', '/content/drive/My Drive/DeepFakeFiles/train_data/dnyvfblxpm.mp4', '/content/drive/My Drive/DeepFakeFiles/train_data/acxnxvbsxk.mp4', '/content/drive/My Drive/DeepFakeFiles/train_data/aybumesmpk.mp4', '/content/drive/My Drive/DeepFakeFiles/train_data/btmsngnqhv.mp4', '/content/drive/My Drive/DeepFakeFiles/train_data/emfbhytfhc.mp4', '/content/drive/My Drive/DeepFakeFiles/train_data/aufmsmnoye.mp4', '/content/drive/My Drive/DeepFakeFiles/train_data/dsdoseflas.mp4', '/content/drive/My Drive/DeepFakeFiles/train_data/etdcqxabww.mp4', '/content/drive/My Drive/DeepFakeFiles/train_data/dhcselezer.mp4', '/content/drive/My Drive/DeepFakeFiles/train_data/cppdvdejkc.mp4', '/content/drive/My Drive/DeepFakeFiles/train_data/avnqydkqjj.mp4', '/content/drive/My Drive/DeepFakeFiles/train_data/bntlodcfeg.mp4', '/content/drive/My Drive/DeepFakeFiles/train_data/djxdyjopjd.mp4', '/content/drive/My Drive/DeepFakeFiles/train_data/afoovlsmtx.mp4', '/content/drive/My Drive/DeepFakeFiles/train_data/avmjormvsx.mp4', '/content/drive/My Drive/DeepFakeFiles/train_data/dhoqofwoxa.mp4', '/content/drive/My Drive/DeepFakeFiles/train_data/dsgpbgsrdm.mp4', '/content/drive/My Drive/DeepFakeFiles/train_data/bpapbctoao.mp4', '/content/drive/My Drive/DeepFakeFiles/train_data/acqfdwsrhi.mp4', '/content/drive/My Drive/DeepFakeFiles/train_data/dptbnjnkdg.mp4', '/content/drive/My Drive/DeepFakeFiles/train_data/bbhpvrmbse.mp4', '/content/drive/My Drive/DeepFakeFiles/train_data/bjkmjilrxp.mp4', '/content/drive/My Drive/DeepFakeFiles/train_data/ddqccgmtka.mp4', '/content/drive/My Drive/DeepFakeFiles/train_data/augtsuxpzc.mp4', '/content/drive/My Drive/DeepFakeFiles/train_data/ahbweevwpv.mp4', '/content/drive/My Drive/DeepFakeFiles/train_data/abofeumbvv.mp4', '/content/drive/My Drive/DeepFakeFiles/train_data/cthdnahrkh.mp4', '/content/drive/My Drive/DeepFakeFiles/train_data/doanjploai.mp4', '/content/drive/My Drive/DeepFakeFiles/train_data/cknyxaqouy.mp4', '/content/drive/My Drive/DeepFakeFiles/train_data/cxfujlvsuw.mp4', '/content/drive/My Drive/DeepFakeFiles/train_data/diomeixhrg.mp4', '/content/drive/My Drive/DeepFakeFiles/train_data/ehieahnhte.mp4', '/content/drive/My Drive/DeepFakeFiles/train_data/bkmdzhfzfh.mp4', '/content/drive/My Drive/DeepFakeFiles/train_data/bopqhhalml.mp4', '/content/drive/My Drive/DeepFakeFiles/train_data/bqkdbcqjvb.mp4', '/content/drive/My Drive/DeepFakeFiles/train_data/abqwwspghj.mp4', '/content/drive/My Drive/DeepFakeFiles/train_data/cwsbspfzck.mp4', '/content/drive/My Drive/DeepFakeFiles/train_data/adohikbdaz.mp4', '/content/drive/My Drive/DeepFakeFiles/train_data/bseamdrpbj.mp4', '/content/drive/My Drive/DeepFakeFiles/train_data/ceymbecxnj.mp4', '/content/drive/My Drive/DeepFakeFiles/train_data/ahqqqilsxt.mp4', '/content/drive/My Drive/DeepFakeFiles/train_data/erlvuvjsjf.mp4', '/content/drive/My Drive/DeepFakeFiles/train_data/dbhrpizyeq.mp4', '/content/drive/My Drive/DeepFakeFiles/train_data/aorjvbyxhw.mp4', '/content/drive/My Drive/DeepFakeFiles/train_data/bgaogsjehq.mp4', '/content/drive/My Drive/DeepFakeFiles/train_data/dgzklxjmix.mp4', '/content/drive/My Drive/DeepFakeFiles/train_data/dlrsbscitn.mp4', '/content/drive/My Drive/DeepFakeFiles/train_data/brhalypwoo.mp4', '/content/drive/My Drive/DeepFakeFiles/train_data/bhbdugnurr.mp4', '/content/drive/My Drive/DeepFakeFiles/train_data/cksanfsjhc.mp4', '/content/drive/My Drive/DeepFakeFiles/train_data/drsakwyvqv.mp4', '/content/drive/My Drive/DeepFakeFiles/train_data/esckbnkkvb.mp4', '/content/drive/My Drive/DeepFakeFiles/train_data/dzieklokdr.mp4', '/content/drive/My Drive/DeepFakeFiles/train_data/bghphrsfxf.mp4', '/content/drive/My Drive/DeepFakeFiles/train_data/bqqpbzjgup.mp4', '/content/drive/My Drive/DeepFakeFiles/train_data/elvvackpjh.mp4', '/content/drive/My Drive/DeepFakeFiles/train_data/eiwopxzjfn.mp4', '/content/drive/My Drive/DeepFakeFiles/train_data/ehevsxtecd.mp4', '/content/drive/My Drive/DeepFakeFiles/train_data/djvutyvaio.mp4', '/content/drive/My Drive/DeepFakeFiles/train_data/dulanfulol.mp4', '/content/drive/My Drive/DeepFakeFiles/train_data/azpuxunqyo.mp4', '/content/drive/My Drive/DeepFakeFiles/train_data/avywawptfc.mp4', '/content/drive/My Drive/DeepFakeFiles/train_data/esyhwdfnxs.mp4', '/content/drive/My Drive/DeepFakeFiles/train_data/avibnnhwhp.mp4', '/content/drive/My Drive/DeepFakeFiles/train_data/bnbuonyoje.mp4', '/content/drive/My Drive/DeepFakeFiles/train_data/bofqajtwve.mp4', '/content/drive/My Drive/DeepFakeFiles/train_data/eprybmbpba.mp4', '/content/drive/My Drive/DeepFakeFiles/train_data/cobjrlugvp.mp4', '/content/drive/My Drive/DeepFakeFiles/train_data/arrhsnjqku.mp4', '/content/drive/My Drive/DeepFakeFiles/train_data/emgjphonqb.mp4', '/content/drive/My Drive/DeepFakeFiles/train_data/dtocdfbwca.mp4', '/content/drive/My Drive/DeepFakeFiles/train_data/ehccixxzoe.mp4', '/content/drive/My Drive/DeepFakeFiles/train_data/dfbpceeaox.mp4', '/content/drive/My Drive/DeepFakeFiles/train_data/chtapglbcj.mp4', '/content/drive/My Drive/DeepFakeFiles/train_data/bmioepcpsx.mp4', '/content/drive/My Drive/DeepFakeFiles/train_data/dgmevclvzy.mp4', '/content/drive/My Drive/DeepFakeFiles/train_data/epymyyiblu.mp4', '/content/drive/My Drive/DeepFakeFiles/train_data/dhevettufk.mp4', '/content/drive/My Drive/DeepFakeFiles/train_data/ellavthztb.mp4', '/content/drive/My Drive/DeepFakeFiles/train_data/ecuvtoltue.mp4', '/content/drive/My Drive/DeepFakeFiles/train_data/dqnyszdong.mp4', '/content/drive/My Drive/DeepFakeFiles/train_data/cizlkenljw.mp4', '/content/drive/My Drive/DeepFakeFiles/train_data/cxttmymlbn.mp4', '/content/drive/My Drive/DeepFakeFiles/train_data/caifxvsozs.mp4', '/content/drive/My Drive/DeepFakeFiles/train_data/ccfoszqabv.mp4', '/content/drive/My Drive/DeepFakeFiles/train_data/bhpwpydzpo.mp4', '/content/drive/My Drive/DeepFakeFiles/train_data/cbbibzcoih.mp4', '/content/drive/My Drive/DeepFakeFiles/train_data/dcuiiorugd.mp4', '/content/drive/My Drive/DeepFakeFiles/train_data/eahlqmfvtj.mp4', '/content/drive/My Drive/DeepFakeFiles/train_data/cfxkpiweqt.mp4', '/content/drive/My Drive/DeepFakeFiles/train_data/anpuvshzoo.mp4', '/content/drive/My Drive/DeepFakeFiles/train_data/ecujsjhscd.mp4', '/content/drive/My Drive/DeepFakeFiles/train_data/aczrgyricp.mp4', '/content/drive/My Drive/DeepFakeFiles/train_data/ciyoudyhly.mp4', '/content/drive/My Drive/DeepFakeFiles/train_data/arlmiizoob.mp4', '/content/drive/My Drive/DeepFakeFiles/train_data/avvdgsennp.mp4', '/content/drive/My Drive/DeepFakeFiles/train_data/atxvxouljq.mp4', '/content/drive/My Drive/DeepFakeFiles/train_data/dntkzzzcdh.mp4', '/content/drive/My Drive/DeepFakeFiles/train_data/eoewqcpbgt.mp4', '/content/drive/My Drive/DeepFakeFiles/train_data/emaalmsonj.mp4', '/content/drive/My Drive/DeepFakeFiles/train_data/btjlfpzbdu.mp4', '/content/drive/My Drive/DeepFakeFiles/train_data/eejswgycjc.mp4', '/content/drive/My Drive/DeepFakeFiles/train_data/edyncaijwx.mp4', '/content/drive/My Drive/DeepFakeFiles/train_data/bqdjzqhcft.mp4')\n",
            "(0, 1, 1, 1, 1, 1, 1, 0, 1, 1, 1, 1, 1, 1, 1, 1, 1, 1, 0, 1, 1, 1, 1, 1, 1, 1, 0, 1, 0, 1, 0, 0, 1, 1, 1, 1, 1, 1, 1, 1, 1, 1, 1, 1, 1, 1, 1, 0, 1, 1, 1, 1, 1, 0, 1, 1, 1, 1, 1, 1, 1, 1, 0, 1, 1, 0, 1, 1, 1, 0, 1, 1, 1, 1, 1, 1, 1, 1, 1, 1, 1, 1, 0, 0, 1, 1, 0, 1, 1, 1, 1, 0, 1, 1, 1, 1, 0, 1, 1, 1, 0, 1, 1, 0, 1, 1, 1, 1, 1, 0, 0, 1, 1, 1, 0, 1, 1, 1, 1, 1, 1, 0, 1, 1, 1, 1, 1, 0, 1, 1, 1, 0, 1, 1, 0, 0, 1, 1, 1, 1, 1, 1, 1, 1, 1, 1, 1, 1, 1, 1, 1, 1, 1, 1, 1, 1, 1, 0, 1, 0, 1, 1, 1, 0, 0, 1, 1, 1, 1, 1, 1, 1, 1, 1, 1, 1, 0, 0, 1, 1, 0, 1, 1, 1, 1, 1, 0, 1, 1, 1, 1, 1, 1, 1, 1, 0, 1, 0, 1, 1, 0, 1, 1, 1, 0, 1, 1, 1, 1, 1, 1, 0, 1, 1, 1, 1, 1, 1, 1, 0, 1, 1, 1, 1, 1, 1, 0, 1, 1, 0, 1, 0, 1, 1, 1, 1, 0, 1, 0, 0, 1, 1, 1, 0, 1, 1, 1, 1, 1, 1, 1, 1, 0, 1, 1, 1, 1, 1, 0, 1, 1, 0, 1, 1, 1, 1, 1, 1, 1, 1, 1, 1, 1, 1, 1, 0, 1, 1, 1, 1, 1, 1, 1, 1, 0, 1, 0, 1, 1, 1, 1, 0, 0, 1, 0, 1, 1, 1, 0, 1, 1, 1, 1, 1, 1, 0, 1, 1, 0, 0, 0, 1, 1, 0, 1, 1, 1, 1, 1, 1, 1, 1, 1, 1, 1, 1, 1, 1, 1, 1, 1, 1, 1, 1, 1, 1, 0, 0, 1, 1, 1, 1, 1, 1, 1, 1, 1, 1, 1, 1, 1, 1, 1, 1, 1, 1, 1, 1, 1, 1, 1, 1, 1, 0, 1, 1, 1, 0, 1, 0, 1, 1, 1, 1, 0, 1, 1, 0, 1, 0, 0, 1, 1, 1, 1, 0, 0, 0, 1, 0, 1, 1, 1, 1, 1, 1, 1, 1, 0, 1)\n"
          ],
          "name": "stdout"
        }
      ]
    },
    {
      "cell_type": "code",
      "metadata": {
        "id": "7wk6GaUqMXvg",
        "colab_type": "code",
        "colab": {}
      },
      "source": [
        "train_paths = paths[0:int(0.8*len(paths))]\n",
        "train_labels = labels[0:int(0.8*len(labels))]\n",
        "val_paths = paths[int(0.8*len(paths)):int(1*len(paths))]\n",
        "val_labels = labels[int(0.8*len(paths)):int(1*len(paths))]"
      ],
      "execution_count": 0,
      "outputs": []
    },
    {
      "cell_type": "code",
      "metadata": {
        "id": "sf7mx9u1MddC",
        "colab_type": "code",
        "colab": {}
      },
      "source": [
        "def image_to_array(video,shape=(500,500),rescale=1/256.):\n",
        "    nbframe = 5\n",
        "    images = []\n",
        "    frames = []\n",
        "\n",
        "    cap = cv2.VideoCapture(video)\n",
        "    while True:\n",
        "        grabbed, frame = cap.read()\n",
        "        if not grabbed:\n",
        "          # print(\"End of video\")\n",
        "          break\n",
        "\n",
        "        frame = cv2.cvtColor(frame, cv2.COLOR_BGR2GRAY)\n",
        "        frame = cv2.resize(frame, shape)\n",
        "\n",
        "        frame = tf.keras.preprocessing.image.img_to_array(\n",
        "            frame) * rescale\n",
        "        frames.append(frame)\n",
        "   \n",
        "\n",
        "    jump = len(frames)//(nbframe+2)\n",
        "    try:\n",
        "      frames = frames[jump::jump][:nbframe]\n",
        "\n",
        "    except Exception as exception:\n",
        "      print(video)\n",
        "      raise exception\n",
        "\n",
        "    images.append(frames)\n",
        "\n",
        "    return np.array(images).reshape(5,500,500,1)"
      ],
      "execution_count": 0,
      "outputs": []
    },
    {
      "cell_type": "code",
      "metadata": {
        "id": "f3y5DIgKVb2P",
        "colab_type": "code",
        "colab": {}
      },
      "source": [
        "import librosa\n",
        "def audio_to_array(video):\n",
        "  wave,sr = librosa.load(video)\n",
        "  wave = wave[:][45000:150000]\n",
        "  return wave.reshape(wave.shape[0],1)"
      ],
      "execution_count": 0,
      "outputs": []
    },
    {
      "cell_type": "code",
      "metadata": {
        "id": "GPEWZO8mMiEB",
        "colab_type": "code",
        "colab": {}
      },
      "source": [
        "def _bytes_feature(value):\n",
        "  \"\"\"Returns a bytes_list from a string / byte.\"\"\"\n",
        "  if isinstance(value, type(tf.constant(0))):\n",
        "    value = value.numpy() # BytesList won't unpack a string from an EagerTensor.\n",
        "  return tf.train.Feature(bytes_list=tf.train.BytesList(value=[value]))\n",
        "\n",
        "def _float_feature(value):\n",
        "  \"\"\"Returns a float_list from a float / double.\"\"\"\n",
        "  return tf.train.Feature(float_list=tf.train.FloatList(value=[value]))\n",
        "\n",
        "def _int64_feature(value):\n",
        "  \"\"\"Returns an int64_list from a bool / enum / int / uint.\"\"\"\n",
        "  return tf.train.Feature(int64_list=tf.train.Int64List(value=[value]))"
      ],
      "execution_count": 0,
      "outputs": []
    },
    {
      "cell_type": "code",
      "metadata": {
        "id": "Diz-6p1ZM5Vg",
        "colab_type": "code",
        "outputId": "4943f2aa-4cf5-42f0-c774-925352142898",
        "colab": {
          "base_uri": "https://localhost:8080/",
          "height": 554
        }
      },
      "source": [
        "import sys\n",
        "train_filename = '/content/drive/My Drive/DeepFakeFiles/train.tfrecords'  # address to save the TFRecords file\n",
        "\n",
        "# open the TFRecords file\n",
        "writer = tf.io.TFRecordWriter(train_filename)\n",
        "\n",
        "for i in range(len(train_paths)):\n",
        "    # print how many images are saved every 1000 images\n",
        "    if i % 10 == 0:\n",
        "        print ('Train data: {}/{}'.format(i, len(train_paths)))\n",
        "        sys.stdout.flush()\n",
        "\n",
        "    # Load the image\n",
        "    img = image_to_array(train_paths[i])\n",
        "    audio = audio_to_array(train_paths[i])\n",
        "\n",
        "    label = train_labels[i]\n",
        "\n",
        "    # Create a feature\n",
        "    feature = {'train/label': _int64_feature(label),\n",
        "               'train/image': _bytes_feature(tf.compat.as_bytes(img.tostring())),\n",
        "               'train/audio': _bytes_feature(tf.compat.as_bytes(audio.tostring()))}\n",
        "\n",
        "    # Create an example protocol buffer\n",
        "    example = tf.train.Example(features=tf.train.Features(feature=feature))\n",
        "\n",
        "    # Serialize to string and write on the file\n",
        "    writer.write(example.SerializeToString())\n",
        "\n",
        "writer.close()\n",
        "sys.stdout.flush()"
      ],
      "execution_count": 0,
      "outputs": [
        {
          "output_type": "stream",
          "text": [
            "Train data: 0/320\n",
            "Train data: 10/320\n",
            "Train data: 20/320\n",
            "Train data: 30/320\n",
            "Train data: 40/320\n",
            "Train data: 50/320\n",
            "Train data: 60/320\n",
            "Train data: 70/320\n",
            "Train data: 80/320\n",
            "Train data: 90/320\n",
            "Train data: 100/320\n",
            "Train data: 110/320\n",
            "Train data: 120/320\n",
            "Train data: 130/320\n",
            "Train data: 140/320\n",
            "Train data: 150/320\n",
            "Train data: 160/320\n",
            "Train data: 170/320\n",
            "Train data: 180/320\n",
            "Train data: 190/320\n",
            "Train data: 200/320\n",
            "Train data: 210/320\n",
            "Train data: 220/320\n",
            "Train data: 230/320\n",
            "Train data: 240/320\n",
            "Train data: 250/320\n",
            "Train data: 260/320\n",
            "Train data: 270/320\n",
            "Train data: 280/320\n",
            "Train data: 290/320\n",
            "Train data: 300/320\n",
            "Train data: 310/320\n"
          ],
          "name": "stdout"
        }
      ]
    },
    {
      "cell_type": "code",
      "metadata": {
        "id": "IRY2Z5Z8i_MN",
        "colab_type": "code",
        "outputId": "fc7b5455-48a1-4dd2-fecf-6095fec1700d",
        "colab": {
          "base_uri": "https://localhost:8080/",
          "height": 50
        }
      },
      "source": [
        "val_filename = '/content/drive/My Drive/DeepFakeFiles/val.tfrecords'  # address to save the TFRecords file\n",
        "\n",
        "# open the TFRecords file\n",
        "writer = tf.io.TFRecordWriter(val_filename)\n",
        "\n",
        "for i in range(len(val_paths)):\n",
        "    # print how many images are saved every 1000 images\n",
        "    if not i % 100:\n",
        "        print ('Train data: {}/{}'.format(i, len(val_paths)))\n",
        "        sys.stdout.flush()\n",
        "\n",
        "    # Load the image\n",
        "    # print(train_paths[i])\n",
        "    img = image_to_array(val_paths[i])\n",
        "    audio = audio_to_array(val_paths[i])\n",
        "\n",
        "    label = val_labels[i]\n",
        "\n",
        "    # Create a feature\n",
        "    feature = {'val/label': _int64_feature(label),\n",
        "               'val/image': _bytes_feature(tf.compat.as_bytes(img.tostring())),\n",
        "               'val/audio': _bytes_feature(tf.compat.as_bytes(audio.tostring()))}\n",
        "\n",
        "    # Create an example protocol buffer\n",
        "    example = tf.train.Example(features=tf.train.Features(feature=feature))\n",
        "\n",
        "    # Serialize to string and write on the file\n",
        "    writer.write(example.SerializeToString())\n",
        "\n",
        "writer.close()\n",
        "print(\"Done\")\n",
        "sys.stdout.flush()"
      ],
      "execution_count": 0,
      "outputs": [
        {
          "output_type": "stream",
          "text": [
            "Train data: 0/80\n",
            "Done\n"
          ],
          "name": "stdout"
        }
      ]
    },
    {
      "cell_type": "markdown",
      "metadata": {
        "id": "FrC4ssMOYut9",
        "colab_type": "text"
      },
      "source": [
        "FOR TEST SET RUN THIS"
      ]
    },
    {
      "cell_type": "code",
      "metadata": {
        "id": "HjZQbMqZYy0j",
        "colab_type": "code",
        "colab": {}
      },
      "source": [
        "import glob\n",
        "test_paths = glob.glob(\"/content/drive/My Drive/DeepFakeFiles/test_videos/*.mp4\")"
      ],
      "execution_count": 0,
      "outputs": []
    },
    {
      "cell_type": "code",
      "metadata": {
        "id": "ql2mXCXohAjj",
        "colab_type": "code",
        "colab": {}
      },
      "source": [
        "file_path_test = \"/content/drive/My Drive/DeepFakeFiles/test.tfrecords\""
      ],
      "execution_count": 0,
      "outputs": []
    },
    {
      "cell_type": "code",
      "metadata": {
        "id": "lroiwhzghXtq",
        "colab_type": "code",
        "colab": {}
      },
      "source": [
        "test_labels = [0 for _ in range(len(test_paths))]"
      ],
      "execution_count": 0,
      "outputs": []
    },
    {
      "cell_type": "code",
      "metadata": {
        "id": "Ds3BetsbhJYw",
        "colab_type": "code",
        "outputId": "6ac63a00-c0f1-4558-9bbb-ee6f5aab87f1",
        "colab": {
          "base_uri": "https://localhost:8080/",
          "height": 689
        }
      },
      "source": [
        "import sys\n",
        "\n",
        "# open the TFRecords file\n",
        "writer = tf.io.TFRecordWriter(file_path_test)\n",
        "\n",
        "for i in range(len(test_paths)):\n",
        "    # print how many images are saved every 1000 images\n",
        "    if i % 10 == 0:\n",
        "        print ('Test data: {}/{}'.format(i, len(test_paths)))\n",
        "        sys.stdout.flush()\n",
        "\n",
        "    # Load the image\n",
        "    img = image_to_array(test_paths[i])\n",
        "    audio = audio_to_array(test_paths[i])\n",
        "\n",
        "    label = test_labels[i]\n",
        "\n",
        "    # Create a feature\n",
        "    feature = {'test/label': _int64_feature(label),\n",
        "               'test/image': _bytes_feature(tf.compat.as_bytes(img.tostring())),\n",
        "               'test/audio': _bytes_feature(tf.compat.as_bytes(audio.tostring()))}\n",
        "\n",
        "    # Create an example protocol buffer\n",
        "    example = tf.train.Example(features=tf.train.Features(feature=feature))\n",
        "\n",
        "    # Serialize to string and write on the file\n",
        "    writer.write(example.SerializeToString())\n",
        "\n",
        "writer.close()\n",
        "sys.stdout.flush()"
      ],
      "execution_count": 0,
      "outputs": [
        {
          "output_type": "stream",
          "text": [
            "Test data: 0/400\n",
            "Test data: 10/400\n",
            "Test data: 20/400\n",
            "Test data: 30/400\n",
            "Test data: 40/400\n",
            "Test data: 50/400\n",
            "Test data: 60/400\n",
            "Test data: 70/400\n",
            "Test data: 80/400\n",
            "Test data: 90/400\n",
            "Test data: 100/400\n",
            "Test data: 110/400\n",
            "Test data: 120/400\n",
            "Test data: 130/400\n",
            "Test data: 140/400\n",
            "Test data: 150/400\n",
            "Test data: 160/400\n",
            "Test data: 170/400\n",
            "Test data: 180/400\n",
            "Test data: 190/400\n",
            "Test data: 200/400\n",
            "Test data: 210/400\n",
            "Test data: 220/400\n",
            "Test data: 230/400\n",
            "Test data: 240/400\n",
            "Test data: 250/400\n",
            "Test data: 260/400\n",
            "Test data: 270/400\n",
            "Test data: 280/400\n",
            "Test data: 290/400\n",
            "Test data: 300/400\n",
            "Test data: 310/400\n",
            "Test data: 320/400\n",
            "Test data: 330/400\n",
            "Test data: 340/400\n",
            "Test data: 350/400\n",
            "Test data: 360/400\n",
            "Test data: 370/400\n",
            "Test data: 380/400\n",
            "Test data: 390/400\n"
          ],
          "name": "stdout"
        }
      ]
    },
    {
      "cell_type": "code",
      "metadata": {
        "id": "5qPVZQIb1uqS",
        "colab_type": "code",
        "outputId": "82a0dcf0-5315-4bf4-f47b-cee524f1a5bb",
        "colab": {
          "base_uri": "https://localhost:8080/",
          "height": 34
        }
      },
      "source": [
        "from google.colab import drive\n",
        "drive.mount('/content/drive', force_remount=True)"
      ],
      "execution_count": 0,
      "outputs": [
        {
          "output_type": "stream",
          "text": [
            "Mounted at /content/drive\n"
          ],
          "name": "stdout"
        }
      ]
    }
  ]
}