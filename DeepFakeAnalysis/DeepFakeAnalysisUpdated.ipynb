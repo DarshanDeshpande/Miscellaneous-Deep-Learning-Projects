{
 "cells": [
  {
   "cell_type": "code",
   "execution_count": 1,
   "metadata": {
    "colab": {
     "base_uri": "https://localhost:8080/",
     "height": 67
    },
    "colab_type": "code",
    "id": "oN9PUHKhCI0H",
    "outputId": "f4acd9ef-590c-416e-9015-00aef4c614b0"
   },
   "outputs": [
    {
     "name": "stdout",
     "output_type": "stream",
     "text": [
      "TensorFlow 2.x selected.\n",
      "2.1.0-rc1\n"
     ]
    },
    {
     "name": "stderr",
     "output_type": "stream",
     "text": [
      "Using TensorFlow backend.\n"
     ]
    }
   ],
   "source": [
    "%tensorflow_version 2.x\n",
    "import tensorflow as tf\n",
    "import numpy as np\n",
    "import glob\n",
    "import cv2,math,os\n",
    "import keras\n",
    "import json,shutil\n",
    "print(tf.__version__)"
   ]
  },
  {
   "cell_type": "code",
   "execution_count": 2,
   "metadata": {
    "colab": {
     "base_uri": "https://localhost:8080/",
     "height": 104
    },
    "colab_type": "code",
    "id": "V1tflz5y7oz_",
    "outputId": "e1b3ca60-70ed-4135-ec09-e8907fc8b578"
   },
   "outputs": [
    {
     "name": "stdout",
     "output_type": "stream",
     "text": [
      "WARNING:tensorflow:From <ipython-input-2-17bb7203622b>:1: is_gpu_available (from tensorflow.python.framework.test_util) is deprecated and will be removed in a future version.\n",
      "Instructions for updating:\n",
      "Use `tf.config.list_physical_devices('GPU')` instead.\n"
     ]
    },
    {
     "data": {
      "text/plain": [
       "True"
      ]
     },
     "execution_count": 2,
     "metadata": {
      "tags": []
     },
     "output_type": "execute_result"
    }
   ],
   "source": [
    "tf.test.is_gpu_available()\n"
   ]
  },
  {
   "cell_type": "code",
   "execution_count": 0,
   "metadata": {
    "colab": {},
    "colab_type": "code",
    "id": "lcjBOm44AEam"
   },
   "outputs": [],
   "source": [
    "import numpy as np\n",
    "import tensorflow as tf\n",
    "import glob,os,cv2\n",
    "\n",
    "\n",
    "class VideoFrameGenerator(tf.keras.utils.Sequence):\n",
    "    def __init__(\n",
    "            self,\n",
    "            rescale=1/256.,\n",
    "            nb_frames: int = 5,\n",
    "            classes: list = [],\n",
    "            batch_size: int = 16,\n",
    "            use_frame_cache: bool = False,\n",
    "            target_shape: tuple = (200,200),\n",
    "            shuffle: bool = True,\n",
    "            transformation: tf.keras.preprocessing.image.ImageDataGenerator = None,\n",
    "            split: float = None,\n",
    "            nb_channel: int = 3,\n",
    "            glob_pattern: str = './videos/{classname}/*.avi',\n",
    "            _validation_data: list = None):\n",
    "\n",
    "        # should be only RGB or Grayscale\n",
    "        assert nb_channel in (1, 3)\n",
    "\n",
    "        # we should have classes\n",
    "        assert len(classes) != 0\n",
    "\n",
    "        # shape size should be 2\n",
    "        assert len(target_shape) == 2\n",
    "\n",
    "        # split factor should be a propoer value\n",
    "        if split is not None:\n",
    "            assert 0.0 < split < 1.0\n",
    "\n",
    "        # be sure that classes are well ordered\n",
    "        classes.sort()\n",
    "\n",
    "        self.rescale = rescale\n",
    "        self.classes = classes\n",
    "        self.batch_size = batch_size\n",
    "        self.nbframe = nb_frames\n",
    "        self.shuffle = shuffle\n",
    "        self.target_shape = target_shape\n",
    "        self.nb_channel = nb_channel\n",
    "        self.transformation = transformation\n",
    "        self.use_frame_cache = use_frame_cache\n",
    "\n",
    "        self._random_trans = []\n",
    "        self.__frame_cache = {}\n",
    "        self.files = []\n",
    "        self.validation = []\n",
    "\n",
    "        if _validation_data is not None:\n",
    "            # we only need to set files here\n",
    "            self.files = _validation_data\n",
    "        else:\n",
    "            if split is not None and split > 0.0:\n",
    "                for cls in classes:\n",
    "                    files = glob.glob(glob_pattern.format(classname=cls))\n",
    "                    nbval = int(split * len(files))\n",
    "\n",
    "                    print(\"class %s, validation count: %d\" % (cls, nbval))\n",
    "\n",
    "                    # generate validation indexes\n",
    "                    indexes = np.arange(len(files))\n",
    "\n",
    "                    if shuffle:\n",
    "                        np.random.shuffle(indexes)\n",
    "\n",
    "                    val = np.random.permutation(\n",
    "                        indexes)[:nbval]  # get some sample\n",
    "                    # remove validation from train\n",
    "                    indexes = np.array([i for i in indexes if i not in val])\n",
    "\n",
    "                    # and now, make the file list\n",
    "                    self.files += [files[i] for i in indexes]\n",
    "                    self.validation += [files[i] for i in val]\n",
    "\n",
    "            else:\n",
    "                for cls in classes:\n",
    "                    self.files += glob.glob(glob_pattern.format(classname=cls))\n",
    "\n",
    "        # build indexes\n",
    "        self.files_count = len(self.files)\n",
    "        self.indexes = np.arange(self.files_count)\n",
    "        self.classes_count = len(classes)\n",
    "\n",
    "        # to initialize transformations and shuffle indices\n",
    "        self.on_epoch_end()\n",
    "\n",
    "        print(\"get %d classes for %d files for %s\" % (\n",
    "            self.classes_count,\n",
    "            self.files_count,\n",
    "            'train' if _validation_data is None else 'validation'))\n",
    "\n",
    "    def get_validation_generator(self):\n",
    "        \"\"\" Return the validation generator if you've provided split factor \"\"\"\n",
    "        return self.__class__(\n",
    "            nb_frames=self.nbframe,\n",
    "            nb_channel=self.nb_channel,\n",
    "            target_shape=self.target_shape,\n",
    "            classes=self.classes,\n",
    "            batch_size=self.batch_size,\n",
    "            shuffle=self.shuffle,\n",
    "            rescale=self.rescale,\n",
    "            _validation_data=self.validation)\n",
    "\n",
    "    def on_epoch_end(self):\n",
    "        \"\"\" Called by Keras after each epoch \"\"\"\n",
    "\n",
    "        if self.transformation is not None:\n",
    "            self._random_trans = []\n",
    "            for i in range(self.files_count):\n",
    "                self._random_trans.append(\n",
    "                    self.transformation.get_random_transform(self.target_shape)\n",
    "                )\n",
    "\n",
    "        if self.shuffle:\n",
    "            np.random.shuffle(self.indexes)\n",
    "\n",
    "    def __len__(self):\n",
    "        return int(np.floor(self.files_count / self.batch_size))\n",
    "\n",
    "    def __getitem__(self, index):\n",
    "        classes = self.classes\n",
    "        shape = self.target_shape\n",
    "        nbframe = self.nbframe\n",
    "\n",
    "        labels = []\n",
    "        images = []\n",
    "\n",
    "        indexes = self.indexes[index*self.batch_size:(index+1)*self.batch_size]\n",
    "\n",
    "        transformation = None\n",
    "\n",
    "        for i in indexes:\n",
    "            # prepare a transformation if provided\n",
    "            if self.transformation is not None:\n",
    "                transformation = self._random_trans[i]\n",
    "\n",
    "            # video = random.choice(files)\n",
    "            video = self.files[i]\n",
    "            classname = video.split(os.sep)[-2]\n",
    "\n",
    "            # create a label array and set 1 to the right column\n",
    "            label = []\n",
    "            col = classes.index(classname)\n",
    "            label.append(1 if col==0 else 0)\n",
    "\n",
    "\n",
    "            if video not in self.__frame_cache:\n",
    "                cap = cv2.VideoCapture(video)\n",
    "                frames = []\n",
    "                while True:\n",
    "                    grabbed, frame = cap.read()\n",
    "                    if not grabbed:\n",
    "                        # end of video\n",
    "                        break\n",
    "\n",
    "                    # resize\n",
    "                    frame = cv2.resize(frame, shape)\n",
    "\n",
    "                    # use RGB or Grayscale ?\n",
    "                    if self.nb_channel == 3:\n",
    "                        frame = cv2.cvtColor(frame, cv2.COLOR_BGR2GRAY)\n",
    "                    else:\n",
    "                        frame = cv2.cvtColor(frame, cv2.COLOR_RGB2GRAY)\n",
    "\n",
    "                    # to np\n",
    "                    frame = tf.keras.preprocessing.image.img_to_array(\n",
    "                        frame) * self.rescale\n",
    "\n",
    "                    # keep frame\n",
    "                    frames.append(frame)\n",
    "\n",
    "                # Add 2 frames to drop first and last frame\n",
    "                jump = len(frames)//(nbframe+2)\n",
    "                \n",
    "\n",
    "                # get only some images\n",
    "                try:\n",
    "                    frames = frames[jump::jump][:nbframe]\n",
    "                except Exception as exception:\n",
    "                    print(video)\n",
    "                    raise exception\n",
    "\n",
    "                # add to frame cache to not read from disk later\n",
    "                if self.use_frame_cache:\n",
    "                    self.__frame_cache[video] = frames\n",
    "            else:\n",
    "                frames = self.__frame_cache[video]\n",
    "\n",
    "            # apply transformation\n",
    "            if transformation is not None:\n",
    "                frames = [self.transformation.apply_transform(\n",
    "                    frame, transformation) for frame in frames]\n",
    "                # print(frames)\n",
    "\n",
    "            # add the sequence in batch\n",
    "            images.append(frames)\n",
    "            labels.append(label)\n",
    "        \n",
    "        return tf.keras.utils.normalize(np.array(images)), np.array(labels)\n",
    "\n",
    "\n",
    "\"\"\"\n",
    "Utils module to provide some nice functions to develop with Keras and\n",
    "Video sequences.\n",
    "\"\"\"\n",
    "\n",
    "import random as rnd\n",
    "import matplotlib.pyplot as plt\n",
    "\n",
    "\n",
    "def show_sample(g, index=0, random=False, row_width=19, row_height=10):\n",
    "\n",
    "    total = len(g)\n",
    "    print(\"Total: \",total)\n",
    "    if random:\n",
    "        sample = rnd.randint(0, total)\n",
    "    else:\n",
    "        sample = index\n",
    "\n",
    "    assert index < len(g)\n",
    "    sample = g[sample]\n",
    "    sequences = sample[0]\n",
    "    labels = sample[1]\n",
    "\n",
    "    rows = len(sequences)\n",
    "    index = 1\n",
    "    plt.figure(figsize=(row_width, row_height*rows))\n",
    "    for batchid, sequence in enumerate(sequences):\n",
    "        classid = np.argmax(labels[batchid])\n",
    "        classname = g.classes[classid]\n",
    "        cols = len(sequence)\n",
    "        for image in sequence:\n",
    "            print(classname,index)\n",
    "            plt.subplot(rows, cols, index)\n",
    "            plt.title(classname)\n",
    "            plt.imshow(image)\n",
    "            # plt.axis('off')\n",
    "            index += 1\n",
    "    plt.show()\n"
   ]
  },
  {
   "cell_type": "code",
   "execution_count": 0,
   "metadata": {
    "colab": {},
    "colab_type": "code",
    "id": "d88PZMR9BAbw"
   },
   "outputs": [],
   "source": [
    "size = (648, 384)\n",
    "CHANNELS = 3\n",
    "NBFRAME = 5\n",
    "batch_size = 4\n",
    "\n",
    "classes = ['REAL','FAKE']\n",
    "class_list,name_of_files = [], []\n",
    "\n",
    "with open(\"/content/drive/My Drive/DeepFakeFiles/metadata.json\") as f:\n",
    "    data = json.load(f)\n",
    "    for video_id,info in data.items():\n",
    "        if info['label'] == 'FAKE':\n",
    "            class_list.append(1)\n",
    "        else:\n",
    "            class_list.append(0)\n",
    "        name_of_files.append(video_id)"
   ]
  },
  {
   "cell_type": "code",
   "execution_count": 5,
   "metadata": {
    "colab": {
     "base_uri": "https://localhost:8080/",
     "height": 50
    },
    "colab_type": "code",
    "id": "OThOCX2VC2Ss",
    "outputId": "7c27403c-c332-450c-f0c5-a9deb4a33c9f"
   },
   "outputs": [
    {
     "name": "stdout",
     "output_type": "stream",
     "text": [
      "get 2 classes for 400 files for train\n",
      "get 2 classes for 0 files for validation\n"
     ]
    }
   ],
   "source": [
    "glob_pattern = '/content/drive/My Drive/DeepFakeFiles/{classname}/*.mp4'\n",
    "\n",
    "data_aug = tf.keras.preprocessing.image.ImageDataGenerator(zoom_range=.1,horizontal_flip=True,rotation_range=8,width_shift_range=.2,height_shift_range=.2)\n",
    "train = VideoFrameGenerator(classes=classes, glob_pattern=glob_pattern,nb_frames=NBFRAME,split=None, shuffle=False,batch_size=batch_size,target_shape=(200,200),nb_channel=CHANNELS,transformation=data_aug,use_frame_cache=True)\n",
    "valid = train.get_validation_generator()\n",
    "  "
   ]
  },
  {
   "cell_type": "markdown",
   "metadata": {
    "colab_type": "text",
    "id": "bpwnIQsS_V4i"
   },
   "source": [
    "AUDIO MODEL"
   ]
  },
  {
   "cell_type": "code",
   "execution_count": 0,
   "metadata": {
    "colab": {},
    "colab_type": "code",
    "id": "j4YkFY4nJstq"
   },
   "outputs": [],
   "source": [
    "import joblib\n",
    "class AudioGenerator(tf.keras.utils.Sequence):\n",
    "    'Generates data for Keras'\n",
    "    def __init__(self, ids, train_dir):\n",
    "        'Initialization'\n",
    "        self.ids = ids\n",
    "        self.train_dir = train_dir\n",
    "\n",
    "    def __len__(self):\n",
    "        'Denotes the number of batches per epoch'\n",
    "        return 4\n",
    "\n",
    "    def __getitem__(self, index):\n",
    "        batch_id = self.ids[index]\n",
    "        # load data\n",
    "        X = np.asarray(np.load(self.train_dir +'X_train/Trimmed'+ str((batch_id-1)) + '.npy'))\n",
    "        Y = np.asarray(np.load(self.train_dir +'Y_train/'+'Y_'+ str(batch_id*100) + '.npy'))\n",
    "        # print(\"---------------------------------\")\n",
    "        # print(Y)\n",
    "        # print(\"----------------------------------\")\n",
    "        from sklearn import preprocessing\n",
    "        if index==1:\n",
    "          enc = preprocessing.OneHotEncoder()\n",
    "          Y = Y.reshape(-1,1)\n",
    "          enc.fit(Y)\n",
    "          joblib.dump(enc,\"/content/drive/My Drive/DeepFakeFiles/Encoder\")\n",
    "        enc = joblib.load(\"/content/drive/My Drive/DeepFakeFiles/Encoder\")\n",
    "        Y = Y.reshape(-1,1)  \n",
    "        Y = enc.transform(Y).toarray()\n",
    "        X = X.reshape(X.shape[0],X.shape[1],1)\n",
    "        # X = np.asarray(X,dtype=np.uint8)\n",
    "        # Y = np.asarray(Y,dtype=np.uint8)\n",
    "        # print(X.shape,Y.shape)\n",
    "        for i in range(25):\n",
    "          start=0\n",
    "          batch,size= 4,4\n",
    "          X_temp = X[start:batch,:]\n",
    "          Y_temp = Y[start:batch,:]\n",
    "          start = batch\n",
    "          batch+=size\n",
    "        # print(X_temp.shape,Y_temp.shape)\n",
    "          return tf.keras.utils.normalize(X_temp),Y_temp\n"
   ]
  },
  {
   "cell_type": "code",
   "execution_count": 0,
   "metadata": {
    "colab": {},
    "colab_type": "code",
    "id": "Ol7MK5agSXWf"
   },
   "outputs": [],
   "source": [
    "train_gen = AudioGenerator(range(1,5),'/content/drive/My Drive/DeepFakeFiles/')"
   ]
  },
  {
   "cell_type": "code",
   "execution_count": 0,
   "metadata": {
    "colab": {},
    "colab_type": "code",
    "id": "QN0gBseXDKNZ"
   },
   "outputs": [],
   "source": [
    "def action_model(shape=(5, 200, 200, 1)):\n",
    "    inputs = tf.keras.layers.Input(shape=shape)\n",
    "    convLSTM1 = tf.keras.layers.ConvLSTM2D(filters=32,kernel_size=(2,2),dropout=0.3,return_sequences=True)(inputs)\n",
    "    convLSTM2 = tf.keras.layers.ConvLSTM2D(filters=16,kernel_size=(2,2),dropout=0.3,return_sequences=True)(convLSTM1)\n",
    "    flatten = tf.keras.layers.Flatten()(convLSTM2)\n",
    "    dense2 = tf.keras.layers.Dense(32,activation='relu')(flatten)\n",
    "    \n",
    "    model = tf.keras.models.Model(inputs=inputs,outputs=dense2)\n",
    "    # print(model.summary())\n",
    "    return model"
   ]
  },
  {
   "cell_type": "code",
   "execution_count": 0,
   "metadata": {
    "colab": {},
    "colab_type": "code",
    "id": "PxkBcZl4Smwu"
   },
   "outputs": [],
   "source": [
    "def audio_and_final_model(shape=(130941,1)):\n",
    "  input_shape = tf.keras.layers.Input(shape=shape)\n",
    "  Conv1 = tf.keras.layers.Conv1D(32,activation='relu',kernel_size=(10))(input_shape)\n",
    "  MaxPool1 = tf.keras.layers.MaxPool1D()(Conv1)\n",
    "  Dropout1 = tf.keras.layers.Dropout(0.4)(MaxPool1)\n",
    "  Flatten = tf.keras.layers.Flatten()(Dropout1)\n",
    "  Dense2 = tf.keras.layers.Dense(32,activation='relu')(Flatten)\n",
    "\n",
    "  model = tf.keras.models.Model(inputs=input_shape,outputs=Dense2)\n",
    "\n",
    "  # print(\"AUDIO MODEL\",model.summary())\n",
    "  return model"
   ]
  },
  {
   "cell_type": "code",
   "execution_count": 0,
   "metadata": {
    "colab": {},
    "colab_type": "code",
    "id": "SbZHJ5qShAzo"
   },
   "outputs": [],
   "source": [
    "import itertools\n",
    "def create_data_generator(video_generator,audio_generator):\n",
    "    while(True):\n",
    "      for el,el2 in zip(video_generator,audio_generator):\n",
    "        _video_data,_audio_data = el[0],el2[0]\n",
    "        _video_labels, _audio_labels = el[1],el2[1]\n",
    "\n",
    "        # print(_video_data)\n",
    "        # print(\"----------------------------------------------\")\n",
    "        # print(_audio_data)\n",
    "        # print(\"----------------------------------------------\")\n",
    "        # print(_video_labels)\n",
    "        # print(\"------------------------------------------------\")        \n",
    "\n",
    "        yield [_video_data,_audio_data], [_video_labels]"
   ]
  },
  {
   "cell_type": "code",
   "execution_count": 0,
   "metadata": {
    "colab": {},
    "colab_type": "code",
    "id": "L0HUx1jriACZ"
   },
   "outputs": [],
   "source": [
    "multiple_data_generator = create_data_generator(train,train_gen)"
   ]
  },
  {
   "cell_type": "code",
   "execution_count": 17,
   "metadata": {
    "colab": {
     "base_uri": "https://localhost:8080/",
     "height": 336
    },
    "colab_type": "code",
    "id": "zl88a8v_Zok9",
    "outputId": "7797ca3c-8874-40dd-f72c-7e513b4aae12"
   },
   "outputs": [
    {
     "name": "stdout",
     "output_type": "stream",
     "text": [
      "Model: \"model_3\"\n",
      "_________________________________________________________________\n",
      "Layer (type)                 Output Shape              Param #   \n",
      "=================================================================\n",
      "input_3 (InputLayer)         [(None, 5, 200, 200, 1)]  0         \n",
      "_________________________________________________________________\n",
      "conv_lst_m2d_2 (ConvLSTM2D)  (None, 5, 199, 199, 32)   17024     \n",
      "_________________________________________________________________\n",
      "conv_lst_m2d_3 (ConvLSTM2D)  (None, 5, 198, 198, 16)   12352     \n",
      "_________________________________________________________________\n",
      "flatten_2 (Flatten)          (None, 3136320)           0         \n",
      "_________________________________________________________________\n",
      "dense_4 (Dense)              (None, 32)                100362272 \n",
      "=================================================================\n",
      "Total params: 100,391,648\n",
      "Trainable params: 100,391,648\n",
      "Non-trainable params: 0\n",
      "_________________________________________________________________\n",
      "None\n"
     ]
    }
   ],
   "source": [
    "am = action_model()\n",
    "afm = audio_and_final_model()\n",
    "\n",
    "combined = tf.keras.layers.Concatenate(axis=-1)([am.output,afm.output])\n",
    "z = tf.keras.layers.Dense(32,activation='relu')(combined)\n",
    "den1 = tf.keras.layers.Dense(64,activation='relu')(z)\n",
    "den2 = tf.keras.layers.Dense(32,activation='relu')(den1)\n",
    "dropOut = tf.keras.layers.Dropout(0.3)(den2)\n",
    "out = tf.keras.layers.Dense(2,activation='softmax')(dropOut)\n",
    "\n",
    "model = tf.keras.models.Model(inputs=[am.input,afm.input],outputs=out)\n"
   ]
  },
  {
   "cell_type": "code",
   "execution_count": 0,
   "metadata": {
    "colab": {
     "base_uri": "https://localhost:8080/",
     "height": 1000
    },
    "colab_type": "code",
    "id": "3iCWdloWMvso",
    "outputId": "197c6bed-9865-4e2c-b464-7d0e8d90cba7"
   },
   "outputs": [
    {
     "name": "stdout",
     "output_type": "stream",
     "text": [
      "Model: \"model_54\"\n",
      "__________________________________________________________________________________________________\n",
      "Layer (type)                    Output Shape         Param #     Connected to                     \n",
      "==================================================================================================\n",
      "input_72 (InputLayer)           [(None, 130941, 1)]  0                                            \n",
      "__________________________________________________________________________________________________\n",
      "input_71 (InputLayer)           [(None, 5, 200, 200, 0                                            \n",
      "__________________________________________________________________________________________________\n",
      "conv1d_17 (Conv1D)              (None, 130932, 32)   352         input_72[0][0]                   \n",
      "__________________________________________________________________________________________________\n",
      "conv_lst_m2d_49 (ConvLSTM2D)    (None, 5, 199, 199,  17024       input_71[0][0]                   \n",
      "__________________________________________________________________________________________________\n",
      "max_pooling1d_17 (MaxPooling1D) (None, 65466, 32)    0           conv1d_17[0][0]                  \n",
      "__________________________________________________________________________________________________\n",
      "conv_lst_m2d_50 (ConvLSTM2D)    (None, 5, 198, 198,  12352       conv_lst_m2d_49[0][0]            \n",
      "__________________________________________________________________________________________________\n",
      "dropout_37 (Dropout)            (None, 65466, 32)    0           max_pooling1d_17[0][0]           \n",
      "__________________________________________________________________________________________________\n",
      "flatten_29 (Flatten)            (None, 3136320)      0           conv_lst_m2d_50[0][0]            \n",
      "__________________________________________________________________________________________________\n",
      "flatten_30 (Flatten)            (None, 2094912)      0           dropout_37[0][0]                 \n",
      "__________________________________________________________________________________________________\n",
      "dense_84 (Dense)                (None, 32)           100362272   flatten_29[0][0]                 \n",
      "__________________________________________________________________________________________________\n",
      "dense_85 (Dense)                (None, 32)           67037216    flatten_30[0][0]                 \n",
      "__________________________________________________________________________________________________\n",
      "concatenate_16 (Concatenate)    (None, 64)           0           dense_84[0][0]                   \n",
      "                                                                 dense_85[0][0]                   \n",
      "__________________________________________________________________________________________________\n",
      "dense_86 (Dense)                (None, 32)           2080        concatenate_16[0][0]             \n",
      "__________________________________________________________________________________________________\n",
      "dropout_38 (Dropout)            (None, 32)           0           dense_86[0][0]                   \n",
      "__________________________________________________________________________________________________\n",
      "dense_87 (Dense)                (None, 1)            33          dropout_38[0][0]                 \n",
      "==================================================================================================\n",
      "Total params: 167,431,329\n",
      "Trainable params: 167,431,329\n",
      "Non-trainable params: 0\n",
      "__________________________________________________________________________________________________\n"
     ]
    },
    {
     "data": {
      "image/png": "[encoded data removed]",
      "text/plain": [
       "<IPython.core.display.Image object>"
      ]
     },
     "execution_count": 185,
     "metadata": {
      "tags": []
     },
     "output_type": "execute_result"
    }
   ],
   "source": [
    "model.summary()\n",
    "tf.keras.utils.plot_model(model)"
   ]
  },
  {
   "cell_type": "code",
   "execution_count": null,
   "metadata": {
    "colab": {
     "base_uri": "https://localhost:8080/",
     "height": 1000
    },
    "colab_type": "code",
    "id": "pvAE8XwuDO6t",
    "outputId": "6cfcf53d-c009-49d6-e174-c0f483f9c28b"
   },
   "outputs": [],
   "source": [
    "import warnings\n",
    "warnings.filterwarnings(action='ignore')\n",
    "INSHAPE = (5, 648, 384, 3)\n",
    "print(\"Inshape\",INSHAPE)\n",
    "optimizer = tf.keras.optimizers.Adam(0.00001)\n",
    "model.compile(optimizer=optimizer,loss='categorical_crossentropy',metrics=['accuracy','categorical_accuracy'])\n",
    "# print(model.summary())\n",
    "EPOCHS=50\n",
    "callbacks = [tf.keras.callbacks.ReduceLROnPlateau(verbose=1,monitor='loss',patience=2),tf.keras.callbacks.ModelCheckpoint('/content/drive/My Drive/DeepFakeFiles/Model.h5',monitor='loss',save_best_only=True,save_freq='epoch')]\n",
    "print(\"Starting training\")\n",
    "model.fit_generator(multiple_data_generator,epochs=EPOCHS,callbacks=callbacks,shuffle=True,steps_per_epoch=100)\n",
    "print(\"Saving Model\")\n",
    "model.save(\"DeepfakeModel.h5\")"
   ]
  },
  {
   "cell_type": "markdown",
   "metadata": {},
   "source": [
    "CONTINUE TRAINING"
   ]
  },
  {
   "cell_type": "code",
   "execution_count": null,
   "metadata": {
    "colab": {
     "base_uri": "https://localhost:8080/",
     "height": 722
    },
    "colab_type": "code",
    "id": "ovXNGXBYml9k",
    "outputId": "2ca8772a-e1c9-4f74-c3a4-2a4e9bdc019b"
   },
   "outputs": [],
   "source": [
    "import warnings\n",
    "warnings.filterwarnings(action='ignore')\n",
    "callbacks = [tf.keras.callbacks.ModelCheckpoint('/content/drive/My Drive/DeepFakeFiles/Model.h5',monitor='loss',save_best_only=True,save_freq='epoch')]\n",
    "model = tf.keras.models.load_model('/content/DeepfakeModel.h5')\n",
    "model.fit_generator(multiple_data_generator,epochs=20,callbacks=callbacks,shuffle=True,steps_per_epoch=100)\n",
    "print(\"Saving Model\")\n",
    "model.save(\"DeepfakeModel.h5\")"
   ]
  }
 ],
 "metadata": {
  "accelerator": "GPU",
  "colab": {
   "collapsed_sections": [],
   "machine_shape": "hm",
   "name": "DeepFakeAnalysis.ipynb",
   "provenance": []
  },
  "kernelspec": {
   "display_name": "Python 3",
   "language": "python",
   "name": "python3"
  },
  "language_info": {
   "codemirror_mode": {
    "name": "ipython",
    "version": 3
   },
   "file_extension": ".py",
   "mimetype": "text/x-python",
   "name": "python",
   "nbconvert_exporter": "python",
   "pygments_lexer": "ipython3",
   "version": "3.7.5"
  }
 },
 "nbformat": 4,
 "nbformat_minor": 1
}
